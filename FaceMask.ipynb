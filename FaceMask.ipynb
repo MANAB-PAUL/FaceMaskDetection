{
  "nbformat": 4,
  "nbformat_minor": 0,
  "metadata": {
    "colab": {
      "provenance": []
    },
    "kernelspec": {
      "name": "python3",
      "display_name": "Python 3"
    },
    "language_info": {
      "name": "python"
    },
    "accelerator": "GPU",
    "gpuClass": "standard"
  },
  "cells": [
    {
      "cell_type": "code",
      "execution_count": null,
      "metadata": {
        "colab": {
          "base_uri": "https://localhost:8080/"
        },
        "id": "TkIA5RVNZ3hz",
        "outputId": "6f45b418-f301-4c91-c89c-d3baa7af7e54"
      },
      "outputs": [
        {
          "output_type": "stream",
          "name": "stdout",
          "text": [
            "/usr/bin/python3\n"
          ]
        }
      ],
      "source": [
        "!which python3"
      ]
    },
    {
      "cell_type": "code",
      "source": [
        "%load_ext autoreload\n",
        "%autoreload\n",
        "%matplotlib inline"
      ],
      "metadata": {
        "id": "vxublXCDZ9Nn"
      },
      "execution_count": null,
      "outputs": []
    },
    {
      "cell_type": "code",
      "source": [
        "from google.colab import drive"
      ],
      "metadata": {
        "id": "gcwcJN5eaEpw"
      },
      "execution_count": null,
      "outputs": []
    },
    {
      "cell_type": "code",
      "source": [
        "drive.mount('/content/gdrive')"
      ],
      "metadata": {
        "colab": {
          "base_uri": "https://localhost:8080/"
        },
        "id": "bHDzkCQWaHUI",
        "outputId": "b3dadb83-4bfc-43f4-ac0e-3cb1129026de"
      },
      "execution_count": null,
      "outputs": [
        {
          "output_type": "stream",
          "name": "stdout",
          "text": [
            "Mounted at /content/gdrive\n"
          ]
        }
      ]
    },
    {
      "cell_type": "code",
      "source": [
        "import tensorflow as tf # TensorFlow is a popular deep learning framework\n",
        "from tensorflow import keras # Keras is a high-level API for building and training deep learning models\n",
        "from tensorflow.keras import layers # Layers module provides building blocks for constructing deep learning models\n",
        "import numpy as np\n",
        "import pandas as pd\n",
        "import os\n",
        "import cv2\n",
        "import cv2\n",
        "import os\n",
        "import pandas as pd\n",
        "import matplotlib.pyplot as plt\n",
        "from sklearn.model_selection import train_test_split\n",
        "from sklearn.metrics import confusion_matrix\n",
        "import seaborn as sns\n",
        "from sklearn.metrics import classification_report"
      ],
      "metadata": {
        "id": "pQZ2ltCqaJLr"
      },
      "execution_count": null,
      "outputs": []
    },
    {
      "cell_type": "code",
      "source": [
        "# Defining the Model"
      ],
      "metadata": {
        "id": "9V108KMgbK9E"
      },
      "execution_count": null,
      "outputs": []
    },
    {
      "cell_type": "code",
      "source": [],
      "metadata": {
        "id": "6luFbPcFv3uk"
      },
      "execution_count": null,
      "outputs": []
    },
    {
      "cell_type": "code",
      "source": [
        "import tensorflow as tf\n",
        "\n",
        "model = tf.keras.models.Sequential([\n",
        "    tf.keras.layers.Conv2D(32, (3,3), activation='relu', input_shape=(128, 128, 3)),\n",
        "    tf.keras.layers.MaxPooling2D(2, 2),\n",
        "    tf.keras.layers.Conv2D(64, (3,3), activation='relu'),\n",
        "    tf.keras.layers.MaxPooling2D(2, 2),\n",
        "    tf.keras.layers.Conv2D(128, (3,3), activation='relu'),\n",
        "    tf.keras.layers.MaxPooling2D(2, 2),\n",
        "    tf.keras.layers.Conv2D(256, (3, 3), activation='relu'),\n",
        "    tf.keras.layers.MaxPooling2D(2, 2),\n",
        "    tf.keras.layers.Flatten(),\n",
        "    tf.keras.layers.Dense(512, activation='relu'),\n",
        "    tf.keras.layers.Dense(256, activation='relu'),\n",
        "    tf.keras.layers.Dense(128, activation='relu'),\n",
        "    tf.keras.layers.Dense(64, activation='relu'),\n",
        "    tf.keras.layers.Dense(32, activation='relu'),\n",
        "    tf.keras.layers.Dense(2, activation='softmax')\n",
        "])\n"
      ],
      "metadata": {
        "id": "e2adZBaVdiKy"
      },
      "execution_count": null,
      "outputs": []
    },
    {
      "cell_type": "code",
      "source": [
        "from keras import optimizers\n",
        "optm = optimizers.Adam(learning_rate=0.001, beta_1=0.9, beta_2=0.999, amsgrad=False)\n",
        "model.compile(optimizer=tf.optimizers.Adam(learning_rate = 1e-6), # Adam optimizer adjusts the learning rate adaptively\n",
        "              loss='sparse_categorical_crossentropy', # Binary cross-entropy loss function for binary classification problems\n",
        "              metrics=['accuracy']) # Accuracy metric to evaluate the model's performance"
      ],
      "metadata": {
        "id": "3r2rNH3xeDds"
      },
      "execution_count": null,
      "outputs": []
    },
    {
      "cell_type": "code",
      "source": [
        "X_train = np.load('gdrive/MyDrive/minor_project/X_train_scaled.npy')\n",
        "X_test = np.load('gdrive/MyDrive/minor_project/X_test_scaled.npy')\n",
        "y_train = np.load('gdrive/MyDrive/minor_project/y_train.npy')\n",
        "y_test = np.load('gdrive/MyDrive/minor_project/y_test.npy')"
      ],
      "metadata": {
        "id": "nk42tON9emiz",
        "outputId": "e1e66ff7-650b-4e3f-d431-dfd972a3d0b5",
        "colab": {
          "base_uri": "https://localhost:8080/",
          "height": 218
        }
      },
      "execution_count": null,
      "outputs": [
        {
          "output_type": "error",
          "ename": "NameError",
          "evalue": "ignored",
          "traceback": [
            "\u001b[0;31m---------------------------------------------------------------------------\u001b[0m",
            "\u001b[0;31mNameError\u001b[0m                                 Traceback (most recent call last)",
            "\u001b[0;32m<ipython-input-1-0406424a10c7>\u001b[0m in \u001b[0;36m<cell line: 1>\u001b[0;34m()\u001b[0m\n\u001b[0;32m----> 1\u001b[0;31m \u001b[0mX_train\u001b[0m \u001b[0;34m=\u001b[0m \u001b[0mnp\u001b[0m\u001b[0;34m.\u001b[0m\u001b[0mload\u001b[0m\u001b[0;34m(\u001b[0m\u001b[0;34m'gdrive/MyDrive/minor_project/X_train_scaled.npy'\u001b[0m\u001b[0;34m)\u001b[0m\u001b[0;34m\u001b[0m\u001b[0;34m\u001b[0m\u001b[0m\n\u001b[0m\u001b[1;32m      2\u001b[0m \u001b[0mX_test\u001b[0m \u001b[0;34m=\u001b[0m \u001b[0mnp\u001b[0m\u001b[0;34m.\u001b[0m\u001b[0mload\u001b[0m\u001b[0;34m(\u001b[0m\u001b[0;34m'gdrive/MyDrive/minor_project/X_test_scaled.npy'\u001b[0m\u001b[0;34m)\u001b[0m\u001b[0;34m\u001b[0m\u001b[0;34m\u001b[0m\u001b[0m\n\u001b[1;32m      3\u001b[0m \u001b[0my_train\u001b[0m \u001b[0;34m=\u001b[0m \u001b[0mnp\u001b[0m\u001b[0;34m.\u001b[0m\u001b[0mload\u001b[0m\u001b[0;34m(\u001b[0m\u001b[0;34m'gdrive/MyDrive/minor_project/y_train.npy'\u001b[0m\u001b[0;34m)\u001b[0m\u001b[0;34m\u001b[0m\u001b[0;34m\u001b[0m\u001b[0m\n\u001b[1;32m      4\u001b[0m \u001b[0my_test\u001b[0m \u001b[0;34m=\u001b[0m \u001b[0mnp\u001b[0m\u001b[0;34m.\u001b[0m\u001b[0mload\u001b[0m\u001b[0;34m(\u001b[0m\u001b[0;34m'gdrive/MyDrive/minor_project/y_test.npy'\u001b[0m\u001b[0;34m)\u001b[0m\u001b[0;34m\u001b[0m\u001b[0;34m\u001b[0m\u001b[0m\n",
            "\u001b[0;31mNameError\u001b[0m: name 'np' is not defined"
          ]
        }
      ]
    },
    {
      "cell_type": "code",
      "source": [
        "print('X Train Shape is :',X_train.shape)\n",
        "print('X Test Shape is :',X_test.shape)\n",
        "print('Y Train Shape is :',y_train.shape)\n",
        "print('Y Test Shape is :',y_test.shape)"
      ],
      "metadata": {
        "colab": {
          "base_uri": "https://localhost:8080/"
        },
        "id": "-NuUCTIhepSx",
        "outputId": "0611632e-d7f8-4827-e75f-1c3750605720"
      },
      "execution_count": null,
      "outputs": [
        {
          "output_type": "stream",
          "name": "stdout",
          "text": [
            "X Train Shape is : (5214, 128, 128, 3)\n",
            "X Test Shape is : (1304, 128, 128, 3)\n",
            "Y Train Shape is : (5214,)\n",
            "Y Test Shape is : (1304,)\n"
          ]
        }
      ]
    },
    {
      "cell_type": "code",
      "source": [
        "hist=model.fit(X_train,y_train,epochs=100, validation_split = 0.2,shuffle = True)"
      ],
      "metadata": {
        "colab": {
          "base_uri": "https://localhost:8080/"
        },
        "id": "Hp5-iYm2fZRw",
        "outputId": "9b24ef6b-9e13-4fb4-e717-b649b9a31319"
      },
      "execution_count": null,
      "outputs": [
        {
          "output_type": "stream",
          "name": "stdout",
          "text": [
            "Epoch 1/100\n",
            "131/131 [==============================] - 21s 36ms/step - loss: 0.6830 - accuracy: 0.5313 - val_loss: 0.6733 - val_accuracy: 0.5599\n",
            "Epoch 2/100\n",
            "131/131 [==============================] - 3s 26ms/step - loss: 0.6660 - accuracy: 0.6051 - val_loss: 0.6535 - val_accuracy: 0.6721\n",
            "Epoch 3/100\n",
            "131/131 [==============================] - 3s 24ms/step - loss: 0.6451 - accuracy: 0.7140 - val_loss: 0.6291 - val_accuracy: 0.7996\n",
            "Epoch 4/100\n",
            "131/131 [==============================] - 3s 26ms/step - loss: 0.6181 - accuracy: 0.7828 - val_loss: 0.5977 - val_accuracy: 0.8341\n",
            "Epoch 5/100\n",
            "131/131 [==============================] - 5s 39ms/step - loss: 0.5849 - accuracy: 0.8259 - val_loss: 0.5592 - val_accuracy: 0.8504\n",
            "Epoch 6/100\n",
            "131/131 [==============================] - 4s 32ms/step - loss: 0.5458 - accuracy: 0.8480 - val_loss: 0.5151 - val_accuracy: 0.8706\n",
            "Epoch 7/100\n",
            "131/131 [==============================] - 4s 30ms/step - loss: 0.5018 - accuracy: 0.8693 - val_loss: 0.4700 - val_accuracy: 0.8974\n",
            "Epoch 8/100\n",
            "131/131 [==============================] - 3s 24ms/step - loss: 0.4541 - accuracy: 0.8866 - val_loss: 0.4170 - val_accuracy: 0.8974\n",
            "Epoch 9/100\n",
            "131/131 [==============================] - 3s 24ms/step - loss: 0.4044 - accuracy: 0.9065 - val_loss: 0.3664 - val_accuracy: 0.9128\n",
            "Epoch 10/100\n",
            "131/131 [==============================] - 3s 22ms/step - loss: 0.3557 - accuracy: 0.9257 - val_loss: 0.3195 - val_accuracy: 0.9223\n",
            "Epoch 11/100\n",
            "131/131 [==============================] - 3s 22ms/step - loss: 0.3128 - accuracy: 0.9365 - val_loss: 0.2800 - val_accuracy: 0.9434\n",
            "Epoch 12/100\n",
            "131/131 [==============================] - 3s 22ms/step - loss: 0.2746 - accuracy: 0.9432 - val_loss: 0.2431 - val_accuracy: 0.9482\n",
            "Epoch 13/100\n",
            "131/131 [==============================] - 3s 24ms/step - loss: 0.2422 - accuracy: 0.9473 - val_loss: 0.2151 - val_accuracy: 0.9473\n",
            "Epoch 14/100\n",
            "131/131 [==============================] - 3s 23ms/step - loss: 0.2170 - accuracy: 0.9523 - val_loss: 0.1932 - val_accuracy: 0.9511\n",
            "Epoch 15/100\n",
            "131/131 [==============================] - 3s 22ms/step - loss: 0.1977 - accuracy: 0.9549 - val_loss: 0.1775 - val_accuracy: 0.9521\n",
            "Epoch 16/100\n",
            "131/131 [==============================] - 4s 28ms/step - loss: 0.1832 - accuracy: 0.9554 - val_loss: 0.1621 - val_accuracy: 0.9569\n",
            "Epoch 17/100\n",
            "131/131 [==============================] - 4s 32ms/step - loss: 0.1723 - accuracy: 0.9568 - val_loss: 0.1563 - val_accuracy: 0.9530\n",
            "Epoch 18/100\n",
            "131/131 [==============================] - 4s 28ms/step - loss: 0.1636 - accuracy: 0.9585 - val_loss: 0.1461 - val_accuracy: 0.9559\n",
            "Epoch 19/100\n",
            "131/131 [==============================] - 3s 22ms/step - loss: 0.1565 - accuracy: 0.9585 - val_loss: 0.1419 - val_accuracy: 0.9559\n",
            "Epoch 20/100\n",
            "131/131 [==============================] - 3s 22ms/step - loss: 0.1511 - accuracy: 0.9602 - val_loss: 0.1343 - val_accuracy: 0.9588\n",
            "Epoch 21/100\n",
            "131/131 [==============================] - 3s 22ms/step - loss: 0.1462 - accuracy: 0.9619 - val_loss: 0.1307 - val_accuracy: 0.9607\n",
            "Epoch 22/100\n",
            "131/131 [==============================] - 3s 24ms/step - loss: 0.1421 - accuracy: 0.9616 - val_loss: 0.1265 - val_accuracy: 0.9616\n",
            "Epoch 23/100\n",
            "131/131 [==============================] - 3s 22ms/step - loss: 0.1381 - accuracy: 0.9626 - val_loss: 0.1201 - val_accuracy: 0.9636\n",
            "Epoch 24/100\n",
            "131/131 [==============================] - 3s 23ms/step - loss: 0.1352 - accuracy: 0.9645 - val_loss: 0.1210 - val_accuracy: 0.9645\n",
            "Epoch 25/100\n",
            "131/131 [==============================] - 3s 25ms/step - loss: 0.1323 - accuracy: 0.9648 - val_loss: 0.1142 - val_accuracy: 0.9655\n",
            "Epoch 26/100\n",
            "131/131 [==============================] - 4s 31ms/step - loss: 0.1296 - accuracy: 0.9662 - val_loss: 0.1110 - val_accuracy: 0.9645\n",
            "Epoch 27/100\n",
            "131/131 [==============================] - 3s 23ms/step - loss: 0.1270 - accuracy: 0.9669 - val_loss: 0.1098 - val_accuracy: 0.9674\n",
            "Epoch 28/100\n",
            "131/131 [==============================] - 3s 23ms/step - loss: 0.1247 - accuracy: 0.9674 - val_loss: 0.1056 - val_accuracy: 0.9655\n",
            "Epoch 29/100\n",
            "131/131 [==============================] - 3s 22ms/step - loss: 0.1233 - accuracy: 0.9667 - val_loss: 0.1059 - val_accuracy: 0.9664\n",
            "Epoch 30/100\n",
            "131/131 [==============================] - 3s 23ms/step - loss: 0.1214 - accuracy: 0.9672 - val_loss: 0.1027 - val_accuracy: 0.9684\n",
            "Epoch 31/100\n",
            "131/131 [==============================] - 3s 24ms/step - loss: 0.1196 - accuracy: 0.9672 - val_loss: 0.1015 - val_accuracy: 0.9674\n",
            "Epoch 32/100\n",
            "131/131 [==============================] - 3s 22ms/step - loss: 0.1178 - accuracy: 0.9681 - val_loss: 0.0987 - val_accuracy: 0.9693\n",
            "Epoch 33/100\n",
            "131/131 [==============================] - 3s 22ms/step - loss: 0.1163 - accuracy: 0.9686 - val_loss: 0.0989 - val_accuracy: 0.9712\n",
            "Epoch 34/100\n",
            "131/131 [==============================] - 3s 23ms/step - loss: 0.1151 - accuracy: 0.9688 - val_loss: 0.0950 - val_accuracy: 0.9693\n",
            "Epoch 35/100\n",
            "131/131 [==============================] - 3s 25ms/step - loss: 0.1139 - accuracy: 0.9691 - val_loss: 0.0950 - val_accuracy: 0.9712\n",
            "Epoch 36/100\n",
            "131/131 [==============================] - 3s 23ms/step - loss: 0.1118 - accuracy: 0.9703 - val_loss: 0.0922 - val_accuracy: 0.9703\n",
            "Epoch 37/100\n",
            "131/131 [==============================] - 3s 22ms/step - loss: 0.1109 - accuracy: 0.9698 - val_loss: 0.0912 - val_accuracy: 0.9712\n",
            "Epoch 38/100\n",
            "131/131 [==============================] - 3s 23ms/step - loss: 0.1099 - accuracy: 0.9693 - val_loss: 0.0908 - val_accuracy: 0.9712\n",
            "Epoch 39/100\n",
            "131/131 [==============================] - 3s 23ms/step - loss: 0.1088 - accuracy: 0.9693 - val_loss: 0.0891 - val_accuracy: 0.9712\n",
            "Epoch 40/100\n",
            "131/131 [==============================] - 3s 24ms/step - loss: 0.1079 - accuracy: 0.9693 - val_loss: 0.0878 - val_accuracy: 0.9722\n",
            "Epoch 41/100\n",
            "131/131 [==============================] - 3s 22ms/step - loss: 0.1068 - accuracy: 0.9696 - val_loss: 0.0868 - val_accuracy: 0.9722\n",
            "Epoch 42/100\n",
            "131/131 [==============================] - 3s 22ms/step - loss: 0.1058 - accuracy: 0.9705 - val_loss: 0.0864 - val_accuracy: 0.9741\n",
            "Epoch 43/100\n",
            "131/131 [==============================] - 3s 22ms/step - loss: 0.1047 - accuracy: 0.9703 - val_loss: 0.0868 - val_accuracy: 0.9703\n",
            "Epoch 44/100\n",
            "131/131 [==============================] - 3s 24ms/step - loss: 0.1041 - accuracy: 0.9710 - val_loss: 0.0850 - val_accuracy: 0.9732\n",
            "Epoch 45/100\n",
            "131/131 [==============================] - 3s 23ms/step - loss: 0.1029 - accuracy: 0.9708 - val_loss: 0.0846 - val_accuracy: 0.9703\n",
            "Epoch 46/100\n",
            "131/131 [==============================] - 3s 22ms/step - loss: 0.1020 - accuracy: 0.9715 - val_loss: 0.0835 - val_accuracy: 0.9712\n",
            "Epoch 47/100\n",
            "131/131 [==============================] - 3s 22ms/step - loss: 0.1009 - accuracy: 0.9712 - val_loss: 0.0820 - val_accuracy: 0.9732\n",
            "Epoch 48/100\n",
            "131/131 [==============================] - 3s 22ms/step - loss: 0.1003 - accuracy: 0.9710 - val_loss: 0.0813 - val_accuracy: 0.9732\n",
            "Epoch 49/100\n",
            "131/131 [==============================] - 3s 24ms/step - loss: 0.0990 - accuracy: 0.9712 - val_loss: 0.0801 - val_accuracy: 0.9741\n",
            "Epoch 50/100\n",
            "131/131 [==============================] - 3s 22ms/step - loss: 0.0984 - accuracy: 0.9708 - val_loss: 0.0794 - val_accuracy: 0.9741\n",
            "Epoch 51/100\n",
            "131/131 [==============================] - 3s 24ms/step - loss: 0.0978 - accuracy: 0.9710 - val_loss: 0.0807 - val_accuracy: 0.9751\n",
            "Epoch 52/100\n",
            "131/131 [==============================] - 3s 22ms/step - loss: 0.0962 - accuracy: 0.9727 - val_loss: 0.0788 - val_accuracy: 0.9741\n",
            "Epoch 53/100\n",
            "131/131 [==============================] - 3s 23ms/step - loss: 0.0955 - accuracy: 0.9717 - val_loss: 0.0775 - val_accuracy: 0.9741\n",
            "Epoch 54/100\n",
            "131/131 [==============================] - 3s 23ms/step - loss: 0.0954 - accuracy: 0.9719 - val_loss: 0.0779 - val_accuracy: 0.9741\n",
            "Epoch 55/100\n",
            "131/131 [==============================] - 3s 22ms/step - loss: 0.0942 - accuracy: 0.9712 - val_loss: 0.0764 - val_accuracy: 0.9751\n",
            "Epoch 56/100\n",
            "131/131 [==============================] - 3s 22ms/step - loss: 0.0937 - accuracy: 0.9719 - val_loss: 0.0770 - val_accuracy: 0.9751\n",
            "Epoch 57/100\n",
            "131/131 [==============================] - 3s 22ms/step - loss: 0.0926 - accuracy: 0.9717 - val_loss: 0.0785 - val_accuracy: 0.9760\n",
            "Epoch 58/100\n",
            "131/131 [==============================] - 3s 24ms/step - loss: 0.0918 - accuracy: 0.9715 - val_loss: 0.0747 - val_accuracy: 0.9760\n",
            "Epoch 59/100\n",
            "131/131 [==============================] - 3s 23ms/step - loss: 0.0912 - accuracy: 0.9722 - val_loss: 0.0743 - val_accuracy: 0.9760\n",
            "Epoch 60/100\n",
            "131/131 [==============================] - 3s 23ms/step - loss: 0.0904 - accuracy: 0.9719 - val_loss: 0.0750 - val_accuracy: 0.9760\n",
            "Epoch 61/100\n",
            "131/131 [==============================] - 3s 23ms/step - loss: 0.0897 - accuracy: 0.9729 - val_loss: 0.0766 - val_accuracy: 0.9760\n",
            "Epoch 62/100\n",
            "131/131 [==============================] - 3s 23ms/step - loss: 0.0894 - accuracy: 0.9722 - val_loss: 0.0731 - val_accuracy: 0.9760\n",
            "Epoch 63/100\n",
            "131/131 [==============================] - 3s 24ms/step - loss: 0.0880 - accuracy: 0.9724 - val_loss: 0.0728 - val_accuracy: 0.9751\n",
            "Epoch 64/100\n",
            "131/131 [==============================] - 3s 21ms/step - loss: 0.0878 - accuracy: 0.9731 - val_loss: 0.0748 - val_accuracy: 0.9760\n",
            "Epoch 65/100\n",
            "131/131 [==============================] - 3s 22ms/step - loss: 0.0869 - accuracy: 0.9736 - val_loss: 0.0725 - val_accuracy: 0.9760\n",
            "Epoch 66/100\n",
            "131/131 [==============================] - 3s 22ms/step - loss: 0.0862 - accuracy: 0.9736 - val_loss: 0.0709 - val_accuracy: 0.9770\n",
            "Epoch 67/100\n",
            "131/131 [==============================] - 3s 24ms/step - loss: 0.0854 - accuracy: 0.9739 - val_loss: 0.0709 - val_accuracy: 0.9760\n",
            "Epoch 68/100\n",
            "131/131 [==============================] - 3s 24ms/step - loss: 0.0844 - accuracy: 0.9741 - val_loss: 0.0709 - val_accuracy: 0.9770\n",
            "Epoch 69/100\n",
            "131/131 [==============================] - 3s 22ms/step - loss: 0.0838 - accuracy: 0.9741 - val_loss: 0.0699 - val_accuracy: 0.9751\n",
            "Epoch 70/100\n",
            "131/131 [==============================] - 3s 23ms/step - loss: 0.0830 - accuracy: 0.9729 - val_loss: 0.0709 - val_accuracy: 0.9751\n",
            "Epoch 71/100\n",
            "131/131 [==============================] - 3s 22ms/step - loss: 0.0826 - accuracy: 0.9736 - val_loss: 0.0700 - val_accuracy: 0.9760\n",
            "Epoch 72/100\n",
            "131/131 [==============================] - 3s 25ms/step - loss: 0.0822 - accuracy: 0.9746 - val_loss: 0.0693 - val_accuracy: 0.9770\n",
            "Epoch 73/100\n",
            "131/131 [==============================] - 3s 23ms/step - loss: 0.0810 - accuracy: 0.9741 - val_loss: 0.0682 - val_accuracy: 0.9779\n",
            "Epoch 74/100\n",
            "131/131 [==============================] - 3s 24ms/step - loss: 0.0801 - accuracy: 0.9746 - val_loss: 0.0700 - val_accuracy: 0.9760\n",
            "Epoch 75/100\n",
            "131/131 [==============================] - 3s 22ms/step - loss: 0.0797 - accuracy: 0.9743 - val_loss: 0.0677 - val_accuracy: 0.9779\n",
            "Epoch 76/100\n",
            "131/131 [==============================] - 3s 23ms/step - loss: 0.0790 - accuracy: 0.9748 - val_loss: 0.0691 - val_accuracy: 0.9760\n",
            "Epoch 77/100\n",
            "131/131 [==============================] - 3s 24ms/step - loss: 0.0781 - accuracy: 0.9751 - val_loss: 0.0666 - val_accuracy: 0.9789\n",
            "Epoch 78/100\n",
            "131/131 [==============================] - 3s 22ms/step - loss: 0.0772 - accuracy: 0.9746 - val_loss: 0.0692 - val_accuracy: 0.9760\n",
            "Epoch 79/100\n",
            "131/131 [==============================] - 3s 23ms/step - loss: 0.0769 - accuracy: 0.9741 - val_loss: 0.0668 - val_accuracy: 0.9770\n",
            "Epoch 80/100\n",
            "131/131 [==============================] - 3s 22ms/step - loss: 0.0761 - accuracy: 0.9748 - val_loss: 0.0655 - val_accuracy: 0.9789\n",
            "Epoch 81/100\n",
            "131/131 [==============================] - 3s 25ms/step - loss: 0.0750 - accuracy: 0.9748 - val_loss: 0.0705 - val_accuracy: 0.9770\n",
            "Epoch 82/100\n",
            "131/131 [==============================] - 3s 23ms/step - loss: 0.0752 - accuracy: 0.9743 - val_loss: 0.0650 - val_accuracy: 0.9770\n",
            "Epoch 83/100\n",
            "131/131 [==============================] - 3s 23ms/step - loss: 0.0740 - accuracy: 0.9753 - val_loss: 0.0645 - val_accuracy: 0.9799\n",
            "Epoch 84/100\n",
            "131/131 [==============================] - 3s 22ms/step - loss: 0.0732 - accuracy: 0.9755 - val_loss: 0.0653 - val_accuracy: 0.9779\n",
            "Epoch 85/100\n",
            "131/131 [==============================] - 3s 23ms/step - loss: 0.0725 - accuracy: 0.9753 - val_loss: 0.0675 - val_accuracy: 0.9770\n",
            "Epoch 86/100\n",
            "131/131 [==============================] - 4s 27ms/step - loss: 0.0723 - accuracy: 0.9753 - val_loss: 0.0634 - val_accuracy: 0.9799\n",
            "Epoch 87/100\n",
            "131/131 [==============================] - 3s 23ms/step - loss: 0.0712 - accuracy: 0.9763 - val_loss: 0.0657 - val_accuracy: 0.9760\n",
            "Epoch 88/100\n",
            "131/131 [==============================] - 3s 22ms/step - loss: 0.0711 - accuracy: 0.9765 - val_loss: 0.0631 - val_accuracy: 0.9799\n",
            "Epoch 89/100\n",
            "131/131 [==============================] - 3s 23ms/step - loss: 0.0699 - accuracy: 0.9758 - val_loss: 0.0631 - val_accuracy: 0.9799\n",
            "Epoch 90/100\n",
            "131/131 [==============================] - 3s 25ms/step - loss: 0.0693 - accuracy: 0.9770 - val_loss: 0.0623 - val_accuracy: 0.9799\n",
            "Epoch 91/100\n",
            "131/131 [==============================] - 3s 22ms/step - loss: 0.0686 - accuracy: 0.9772 - val_loss: 0.0639 - val_accuracy: 0.9789\n",
            "Epoch 92/100\n",
            "131/131 [==============================] - 3s 22ms/step - loss: 0.0681 - accuracy: 0.9775 - val_loss: 0.0614 - val_accuracy: 0.9799\n",
            "Epoch 93/100\n",
            "131/131 [==============================] - 3s 22ms/step - loss: 0.0675 - accuracy: 0.9777 - val_loss: 0.0616 - val_accuracy: 0.9799\n",
            "Epoch 94/100\n",
            "131/131 [==============================] - 3s 23ms/step - loss: 0.0669 - accuracy: 0.9767 - val_loss: 0.0608 - val_accuracy: 0.9808\n",
            "Epoch 95/100\n",
            "131/131 [==============================] - 3s 24ms/step - loss: 0.0659 - accuracy: 0.9777 - val_loss: 0.0615 - val_accuracy: 0.9799\n",
            "Epoch 96/100\n",
            "131/131 [==============================] - 3s 22ms/step - loss: 0.0656 - accuracy: 0.9772 - val_loss: 0.0611 - val_accuracy: 0.9789\n",
            "Epoch 97/100\n",
            "131/131 [==============================] - 3s 22ms/step - loss: 0.0649 - accuracy: 0.9787 - val_loss: 0.0630 - val_accuracy: 0.9799\n",
            "Epoch 98/100\n",
            "131/131 [==============================] - 3s 22ms/step - loss: 0.0647 - accuracy: 0.9787 - val_loss: 0.0599 - val_accuracy: 0.9808\n",
            "Epoch 99/100\n",
            "131/131 [==============================] - 3s 24ms/step - loss: 0.0635 - accuracy: 0.9787 - val_loss: 0.0591 - val_accuracy: 0.9789\n",
            "Epoch 100/100\n",
            "131/131 [==============================] - 3s 22ms/step - loss: 0.0636 - accuracy: 0.9782 - val_loss: 0.0602 - val_accuracy: 0.9827\n"
          ]
        }
      ]
    },
    {
      "cell_type": "code",
      "source": [
        "import pickle\n",
        "with open('model.pkl', 'wb') as f:\n",
        "  pickle.dump(model, f)"
      ],
      "metadata": {
        "id": "lICKfZFIE64n"
      },
      "execution_count": null,
      "outputs": []
    },
    {
      "cell_type": "code",
      "source": [
        "result = model.evaluate(X_test, y_test)\n",
        "print(result)"
      ],
      "metadata": {
        "colab": {
          "base_uri": "https://localhost:8080/"
        },
        "id": "nish9ioBfjpa",
        "outputId": "69dfae24-38af-4b42-dbb6-4d4d64c51fed"
      },
      "execution_count": null,
      "outputs": [
        {
          "output_type": "stream",
          "name": "stdout",
          "text": [
            "41/41 [==============================] - 1s 14ms/step - loss: 0.2140 - accuracy: 0.9218\n",
            "[0.21397942304611206, 0.9217791557312012]\n"
          ]
        }
      ]
    },
    {
      "cell_type": "code",
      "source": [
        "y_predd = model.predict(X_test)\n",
        "y_pred_a = []\n",
        "for i in y_predd:\n",
        "  if i[0] > i[1]:\n",
        "    y_pred_a.append(0)\n",
        "  else:\n",
        "    y_pred_a.append(1)"
      ],
      "metadata": {
        "colab": {
          "base_uri": "https://localhost:8080/"
        },
        "id": "7CI26q6Zmem-",
        "outputId": "5c2856de-11c3-4221-e44d-c3412fa1d579"
      },
      "execution_count": null,
      "outputs": [
        {
          "output_type": "stream",
          "name": "stdout",
          "text": [
            "41/41 [==============================] - 1s 9ms/step\n"
          ]
        }
      ]
    },
    {
      "cell_type": "code",
      "source": [
        "clr_rep = classification_report(y_test, y_pred_a)\n",
        "print(clr_rep)"
      ],
      "metadata": {
        "colab": {
          "base_uri": "https://localhost:8080/"
        },
        "id": "WhnKYnFRnAZo",
        "outputId": "98c9d871-a465-4f55-f0f6-4233557d71d6"
      },
      "execution_count": null,
      "outputs": [
        {
          "output_type": "stream",
          "name": "stdout",
          "text": [
            "              precision    recall  f1-score   support\n",
            "\n",
            "           0       0.96      0.89      0.92       697\n",
            "           1       0.88      0.96      0.92       607\n",
            "\n",
            "    accuracy                           0.92      1304\n",
            "   macro avg       0.92      0.92      0.92      1304\n",
            "weighted avg       0.93      0.92      0.92      1304\n",
            "\n"
          ]
        }
      ]
    },
    {
      "cell_type": "code",
      "source": [
        "plt.subplot(1, 2, 1)\n",
        "plt.plot(hist.history['accuracy'])\n",
        "plt.title('Model Accuracy')\n",
        "plt.xlabel('Epoch')\n",
        "plt.ylabel('Accuracy')\n",
        "plt.legend(['Train'], loc='upper left')"
      ],
      "metadata": {
        "colab": {
          "base_uri": "https://localhost:8080/",
          "height": 489
        },
        "id": "5--hpcSZhEjb",
        "outputId": "1b339e6e-b318-481e-8925-c73fe17afe44"
      },
      "execution_count": null,
      "outputs": [
        {
          "output_type": "execute_result",
          "data": {
            "text/plain": [
              "<matplotlib.legend.Legend at 0x7fc30346ea30>"
            ]
          },
          "metadata": {},
          "execution_count": 15
        },
        {
          "output_type": "display_data",
          "data": {
            "text/plain": [
              "<Figure size 640x480 with 1 Axes>"
            ],
            "image/png": "[encoded data removed]"
          },
          "metadata": {}
        }
      ]
    },
    {
      "cell_type": "code",
      "source": [
        "plt.subplot(1, 2, 1)\n",
        "plt.plot(hist.history['loss'])\n",
        "plt.title('Model Loss')\n",
        "plt.xlabel('Epoch')\n",
        "plt.ylabel('loss')\n",
        "plt.legend(['Train'], loc='upper left')"
      ],
      "metadata": {
        "colab": {
          "base_uri": "https://localhost:8080/",
          "height": 489
        },
        "id": "P9UXJqtGiWJx",
        "outputId": "7bfe365a-3350-4165-9dcf-db4dc25a5d9c"
      },
      "execution_count": null,
      "outputs": [
        {
          "output_type": "execute_result",
          "data": {
            "text/plain": [
              "<matplotlib.legend.Legend at 0x7fc3032d05b0>"
            ]
          },
          "metadata": {},
          "execution_count": 16
        },
        {
          "output_type": "display_data",
          "data": {
            "text/plain": [
              "<Figure size 640x480 with 1 Axes>"
            ],
            "image/png": "[encoded data removed]"
          },
          "metadata": {}
        }
      ]
    },
    {
      "cell_type": "code",
      "source": [
        "X_test2 = np.load('gdrive/MyDrive/minor_project/X_test2_scaled.npy')\n",
        "y_train2 = np.load('gdrive/MyDrive/minor_project/y_test2_scaled.npy')"
      ],
      "metadata": {
        "id": "calR25EDiZQK"
      },
      "execution_count": null,
      "outputs": []
    },
    {
      "cell_type": "code",
      "source": [
        "\n",
        "result = model.evaluate(X_test2, y_train2)\n",
        "print(result)"
      ],
      "metadata": {
        "colab": {
          "base_uri": "https://localhost:8080/"
        },
        "id": "K5F6MHJdkT_w",
        "outputId": "a2bfc429-650f-4294-eb65-205057d4820c"
      },
      "execution_count": null,
      "outputs": [
        {
          "output_type": "stream",
          "name": "stdout",
          "text": [
            "1/1 [==============================] - 0s 299ms/step - loss: 0.2802 - accuracy: 0.9231\n",
            "[0.2801709771156311, 0.9230769276618958]\n"
          ]
        }
      ]
    },
    {
      "cell_type": "code",
      "source": [
        "y_pred = model.predict(X_test2)\n",
        "# clr_rep = classification_report(y_train2, y_pred)\n",
        "# print(clr_rep)"
      ],
      "metadata": {
        "colab": {
          "base_uri": "https://localhost:8080/"
        },
        "id": "HbpgWI_CkbI2",
        "outputId": "117d63e8-aa79-445e-c70b-c70d9c83372b"
      },
      "execution_count": null,
      "outputs": [
        {
          "output_type": "stream",
          "name": "stdout",
          "text": [
            "1/1 [==============================] - 0s 24ms/step\n"
          ]
        }
      ]
    },
    {
      "cell_type": "code",
      "source": [
        "y_pred_ac = []\n",
        "for i in y_pred:\n",
        "  if i[0] > i[1]:\n",
        "    y_pred_ac.append(0)\n",
        "  else:\n",
        "    y_pred_ac.append(1)"
      ],
      "metadata": {
        "id": "BKeJbsmglzj4"
      },
      "execution_count": null,
      "outputs": []
    },
    {
      "cell_type": "code",
      "source": [
        "clr_rep = classification_report(y_train2, y_pred_ac)\n",
        "print(clr_rep)"
      ],
      "metadata": {
        "colab": {
          "base_uri": "https://localhost:8080/"
        },
        "id": "lwG-F61DluN8",
        "outputId": "ca46bacc-6b5f-49a5-9bd3-e6b3083958c4"
      },
      "execution_count": null,
      "outputs": [
        {
          "output_type": "stream",
          "name": "stdout",
          "text": [
            "              precision    recall  f1-score   support\n",
            "\n",
            "           0       0.94      0.94      0.94        16\n",
            "           1       0.90      0.90      0.90        10\n",
            "\n",
            "    accuracy                           0.92        26\n",
            "   macro avg       0.92      0.92      0.92        26\n",
            "weighted avg       0.92      0.92      0.92        26\n",
            "\n"
          ]
        }
      ]
    },
    {
      "cell_type": "code",
      "source": [],
      "metadata": {
        "id": "ONHTYzJmlavJ"
      },
      "execution_count": null,
      "outputs": []
    },
    {
      "cell_type": "code",
      "source": [],
      "metadata": {
        "id": "s4oy6ODwFPBN"
      },
      "execution_count": null,
      "outputs": []
    },
    {
      "cell_type": "code",
      "source": [],
      "metadata": {
        "colab": {
          "base_uri": "https://localhost:8080/"
        },
        "id": "oO_kcVg-GoQg",
        "outputId": "5891d84b-0691-4597-e48e-ed967b20d373"
      },
      "execution_count": null,
      "outputs": [
        {
          "output_type": "stream",
          "name": "stdout",
          "text": [
            "Epoch 1/20\n",
            "131/131 [==============================] - 4s 28ms/step - loss: 0.0337 - accuracy: 0.9895 - val_loss: 0.0458 - val_accuracy: 0.9827\n",
            "Epoch 2/20\n",
            "131/131 [==============================] - 3s 23ms/step - loss: 0.0336 - accuracy: 0.9904 - val_loss: 0.0464 - val_accuracy: 0.9827\n",
            "Epoch 3/20\n",
            "131/131 [==============================] - 3s 21ms/step - loss: 0.0341 - accuracy: 0.9892 - val_loss: 0.0459 - val_accuracy: 0.9827\n",
            "Epoch 4/20\n",
            "131/131 [==============================] - 3s 22ms/step - loss: 0.0343 - accuracy: 0.9892 - val_loss: 0.0449 - val_accuracy: 0.9847\n",
            "Epoch 5/20\n",
            "131/131 [==============================] - 3s 22ms/step - loss: 0.0334 - accuracy: 0.9902 - val_loss: 0.0448 - val_accuracy: 0.9847\n",
            "Epoch 6/20\n",
            "131/131 [==============================] - 3s 24ms/step - loss: 0.0331 - accuracy: 0.9902 - val_loss: 0.0453 - val_accuracy: 0.9856\n",
            "Epoch 7/20\n",
            "131/131 [==============================] - 3s 22ms/step - loss: 0.0332 - accuracy: 0.9904 - val_loss: 0.0451 - val_accuracy: 0.9847\n",
            "Epoch 8/20\n",
            "131/131 [==============================] - 3s 22ms/step - loss: 0.0335 - accuracy: 0.9897 - val_loss: 0.0446 - val_accuracy: 0.9847\n",
            "Epoch 9/20\n",
            "131/131 [==============================] - 3s 21ms/step - loss: 0.0327 - accuracy: 0.9899 - val_loss: 0.0446 - val_accuracy: 0.9827\n",
            "Epoch 10/20\n",
            "131/131 [==============================] - 3s 23ms/step - loss: 0.0327 - accuracy: 0.9904 - val_loss: 0.0447 - val_accuracy: 0.9856\n",
            "Epoch 11/20\n",
            "131/131 [==============================] - 3s 23ms/step - loss: 0.0327 - accuracy: 0.9897 - val_loss: 0.0448 - val_accuracy: 0.9847\n",
            "Epoch 12/20\n",
            "131/131 [==============================] - 3s 22ms/step - loss: 0.0328 - accuracy: 0.9909 - val_loss: 0.0449 - val_accuracy: 0.9837\n",
            "Epoch 13/20\n",
            "131/131 [==============================] - 3s 22ms/step - loss: 0.0323 - accuracy: 0.9897 - val_loss: 0.0451 - val_accuracy: 0.9827\n",
            "Epoch 14/20\n",
            "131/131 [==============================] - 3s 22ms/step - loss: 0.0324 - accuracy: 0.9895 - val_loss: 0.0447 - val_accuracy: 0.9856\n",
            "Epoch 15/20\n",
            "131/131 [==============================] - 3s 24ms/step - loss: 0.0319 - accuracy: 0.9911 - val_loss: 0.0451 - val_accuracy: 0.9856\n",
            "Epoch 16/20\n",
            "131/131 [==============================] - 3s 23ms/step - loss: 0.0319 - accuracy: 0.9897 - val_loss: 0.0446 - val_accuracy: 0.9856\n",
            "Epoch 17/20\n",
            "131/131 [==============================] - 3s 22ms/step - loss: 0.0317 - accuracy: 0.9899 - val_loss: 0.0455 - val_accuracy: 0.9856\n",
            "Epoch 18/20\n",
            "131/131 [==============================] - 3s 22ms/step - loss: 0.0315 - accuracy: 0.9906 - val_loss: 0.0463 - val_accuracy: 0.9856\n",
            "Epoch 19/20\n",
            "131/131 [==============================] - 3s 23ms/step - loss: 0.0319 - accuracy: 0.9906 - val_loss: 0.0446 - val_accuracy: 0.9837\n",
            "Epoch 20/20\n",
            "131/131 [==============================] - 3s 24ms/step - loss: 0.0319 - accuracy: 0.9902 - val_loss: 0.0444 - val_accuracy: 0.9847\n",
            "1/1 [==============================] - 0s 31ms/step - loss: 0.1667 - accuracy: 0.9231\n",
            "[0.16668686270713806, 0.9230769276618958]\n"
          ]
        }
      ]
    },
    {
      "cell_type": "code",
      "source": [
        "result = model2.evaluate(X_test2, y_train2)\n",
        "print(result)"
      ],
      "metadata": {
        "colab": {
          "base_uri": "https://localhost:8080/"
        },
        "id": "3mA5wTccG8Om",
        "outputId": "d4deff56-cb26-4624-d60d-eb5fdea0bb38"
      },
      "execution_count": null,
      "outputs": [
        {
          "output_type": "stream",
          "name": "stdout",
          "text": [
            "1/1 [==============================] - 0s 32ms/step - loss: 0.6902 - accuracy: 0.6154\n",
            "[0.6901867389678955, 0.6153846383094788]\n"
          ]
        }
      ]
    },
    {
      "cell_type": "code",
      "source": [
        "result = model2.evaluate(X_test, y_test)\n",
        "print(result)"
      ],
      "metadata": {
        "colab": {
          "base_uri": "https://localhost:8080/"
        },
        "id": "g6-Y2VQBIIM5",
        "outputId": "8ca4cc58-d3a4-43c3-a343-dbb565b338c2"
      },
      "execution_count": null,
      "outputs": [
        {
          "output_type": "stream",
          "name": "stdout",
          "text": [
            "41/41 [==============================] - 0s 9ms/step - loss: 0.6922 - accuracy: 0.5345\n",
            "[0.6922462582588196, 0.5345091819763184]\n"
          ]
        }
      ]
    },
    {
      "cell_type": "code",
      "source": [],
      "metadata": {
        "id": "AFAoueH-If6x"
      },
      "execution_count": null,
      "outputs": []
    }
  ]
}